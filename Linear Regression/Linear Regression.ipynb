{
 "cells": [
  {
   "cell_type": "markdown",
   "metadata": {},
   "source": [
    "# Linear Gradient\n",
    "\n",
    "Here we will consider linear regression for data set with single variable.\n",
    "We will look into\n",
    "- Model function\n",
    "- Cost function\n",
    "- Gradient descent algorithm \n",
    "for Linear gradient with single variable"
   ]
  }
 ],
 "metadata": {
  "language_info": {
   "name": "python"
  }
 },
 "nbformat": 4,
 "nbformat_minor": 2
}
